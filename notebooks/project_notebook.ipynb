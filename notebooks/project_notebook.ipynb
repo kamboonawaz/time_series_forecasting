{
 "cells": [
  {
   "cell_type": "markdown",
   "id": "5958cbde",
   "metadata": {},
   "source": [
    "# Time Series Forecasting Model Comparison\n",
    "\n",
    "This notebook builds and evaluates two lightweight forecasting approaches (Moving Average and ARIMA) on a synthetic monthly time series with trend and seasonality. It demonstrates a simple workflow: data generation, model abstractions, rolling-origin (walk‑forward) evaluation, and quick hyperparameter iteration.\n",
    "\n",
    "**Highlights**\n",
    "- Deterministic synthetic dataset (seeded) for reproducible benchmarking\n",
    "- Two complementary paradigms: smoothing (Moving Average) vs statistical (ARIMA)\n",
    "- Rolling evaluation using sMAPE & MAE\n",
    "- Quick tuning cell to explore window sizes / ARIMA orders\n"
   ]
  },
  {
   "cell_type": "markdown",
   "id": "a376c20f",
   "metadata": {},
   "source": [
    "## 1. Project Layout\n",
    "Remaining minimal structure:\n",
    "```\n",
    "data/            # raw & processed time series\n",
    "notebooks/       # this notebook\n",
    "requirements.txt # dependencies\n",
    "README.md\n",
    "```\n",
    "All logic lives here; you can export to a script later if needed."
   ]
  },
  {
   "cell_type": "markdown",
   "id": "d3f32d1a",
   "metadata": {},
   "source": [
    "## 2. Environment Setup\n",
    "Install dependencies (run once in a terminal):\n",
    "```\n",
    "python -m pip install -r requirements.txt\n",
    "```\n",
    "Then run cells top to bottom. Versions are pinned for reproducibility."
   ]
  },
  {
   "cell_type": "markdown",
   "id": "d38c5473",
   "metadata": {},
   "source": [
    "## 3. Workflow Outline\n",
    "1. Generate / load synthetic monthly series\n",
    "2. Define model classes (Moving Average, ARIMA)\n",
    "3. Define metrics (sMAPE, MAE)\n",
    "4. Rolling-origin evaluation helper\n",
    "5. Visualize results & compare models\n",
    "6. Hyperparameter tweak experiments\n"
   ]
  },
  {
   "cell_type": "code",
   "execution_count": 35,
   "id": "8ba14ab1",
   "metadata": {},
   "outputs": [
    {
     "name": "stdout",
     "output_type": "stream",
     "text": [
      "Environment initialized (seed= 42 ).\n"
     ]
    }
   ],
   "source": [
    "# Global imports & configuration\n",
    "import numpy as np, pandas as pd, warnings\n",
    "from pathlib import Path\n",
    "warnings.filterwarnings('ignore')\n",
    "\n",
    "SEED = 42\n",
    "rng = np.random.default_rng(SEED)\n",
    "print('Environment initialized (seed=', SEED, ').')"
   ]
  },
  {
   "cell_type": "code",
   "execution_count": 36,
   "id": "9b312d3d",
   "metadata": {},
   "outputs": [
    {
     "name": "stdout",
     "output_type": "stream",
     "text": [
      "Dataset shape: (120, 2) | Date range: 2010-01-31 to 2019-12-31\n"
     ]
    },
    {
     "data": {
      "text/html": [
       "<div>\n",
       "<style scoped>\n",
       "    .dataframe tbody tr th:only-of-type {\n",
       "        vertical-align: middle;\n",
       "    }\n",
       "\n",
       "    .dataframe tbody tr th {\n",
       "        vertical-align: top;\n",
       "    }\n",
       "\n",
       "    .dataframe thead th {\n",
       "        text-align: right;\n",
       "    }\n",
       "</style>\n",
       "<table border=\"1\" class=\"dataframe\">\n",
       "  <thead>\n",
       "    <tr style=\"text-align: right;\">\n",
       "      <th></th>\n",
       "      <th>ds</th>\n",
       "      <th>y</th>\n",
       "    </tr>\n",
       "  </thead>\n",
       "  <tbody>\n",
       "    <tr>\n",
       "      <th>0</th>\n",
       "      <td>2010-01-31</td>\n",
       "      <td>112.437737</td>\n",
       "    </tr>\n",
       "    <tr>\n",
       "      <th>1</th>\n",
       "      <td>2010-02-28</td>\n",
       "      <td>111.180127</td>\n",
       "    </tr>\n",
       "    <tr>\n",
       "      <th>2</th>\n",
       "      <td>2010-03-31</td>\n",
       "      <td>132.993991</td>\n",
       "    </tr>\n",
       "    <tr>\n",
       "      <th>3</th>\n",
       "      <td>2010-04-30</td>\n",
       "      <td>138.524518</td>\n",
       "    </tr>\n",
       "    <tr>\n",
       "      <th>4</th>\n",
       "      <td>2010-05-31</td>\n",
       "      <td>115.382100</td>\n",
       "    </tr>\n",
       "  </tbody>\n",
       "</table>\n",
       "</div>"
      ],
      "text/plain": [
       "          ds           y\n",
       "0 2010-01-31  112.437737\n",
       "1 2010-02-28  111.180127\n",
       "2 2010-03-31  132.993991\n",
       "3 2010-04-30  138.524518\n",
       "4 2010-05-31  115.382100"
      ]
     },
     "execution_count": 36,
     "metadata": {},
     "output_type": "execute_result"
    }
   ],
   "source": [
    "# 4. Data Generation / Loading\n",
    "DATA_DIR = Path('../data')\n",
    "RAW = DATA_DIR / 'raw'\n",
    "PROC = DATA_DIR / 'processed'\n",
    "RAW.mkdir(parents=True, exist_ok=True)\n",
    "PROC.mkdir(parents=True, exist_ok=True)\n",
    "\n",
    "# Use 'MS' (month start) to avoid deprecated 'M'\n",
    "FREQ = 'MS'\n",
    "\n",
    "def generate_series(periods=120):\n",
    "    idx = pd.date_range('2010-01-01', periods=periods, freq=FREQ)\n",
    "    t = np.arange(periods)\n",
    "    seasonal = 10 + 15 * np.sin(2 * np.pi * t / 12)\n",
    "    trend = 100 + 2 * t\n",
    "    noise = rng.normal(0, 8, size=periods)\n",
    "    y = trend + seasonal + noise\n",
    "    return pd.DataFrame({'ds': idx, 'y': y})\n",
    "\n",
    "series_path = PROC / 'series.csv'\n",
    "if series_path.exists():\n",
    "    df = pd.read_csv(series_path)\n",
    "    df['ds'] = pd.to_datetime(df['ds'])\n",
    "else:\n",
    "    df = generate_series()\n",
    "    df.to_csv(RAW / 'synthetic_series.csv', index=False)\n",
    "    df.to_csv(series_path, index=False)\n",
    "\n",
    "print('Dataset shape:', df.shape, '| Date range:', df['ds'].min().date(), 'to', df['ds'].max().date())\n",
    "df.head()"
   ]
  },
  {
   "cell_type": "code",
   "execution_count": 37,
   "id": "3c9f2644",
   "metadata": {},
   "outputs": [
    {
     "name": "stdout",
     "output_type": "stream",
     "text": [
      "Models ready (Moving Average & ARIMA).\n"
     ]
    }
   ],
   "source": [
    "# 5. Model Implementations (Moving Average, ARIMA)\n",
    "from statsmodels.tsa.arima.model import ARIMA\n",
    "\n",
    "class MovingAverageModel:\n",
    "    def __init__(self, window=3):\n",
    "        self.window = window\n",
    "        self.history = []\n",
    "    def fit(self, y):\n",
    "        self.history = list(getattr(y, 'values', y))\n",
    "        return self\n",
    "    def predict(self, horizon):\n",
    "        preds, hist = [], self.history.copy()\n",
    "        for _ in range(horizon):\n",
    "            preds.append(np.mean(hist[-self.window:]))\n",
    "            hist.append(preds[-1])\n",
    "        return np.array(preds)\n",
    "\n",
    "class ARIMAModel:\n",
    "    def __init__(self, order=(1,1,1)):\n",
    "        self.order = order\n",
    "        self._model = None\n",
    "    def fit(self, y):\n",
    "        self._model = ARIMA(y, order=self.order).fit()\n",
    "        return self\n",
    "    def predict(self, horizon):\n",
    "        return self._model.forecast(steps=horizon).values\n",
    "\n",
    "print('Models ready (Moving Average & ARIMA).')"
   ]
  },
  {
   "cell_type": "code",
   "execution_count": 38,
   "id": "85bc7fb2",
   "metadata": {},
   "outputs": [
    {
     "name": "stdout",
     "output_type": "stream",
     "text": [
      "Metric sanity check: 0.0 0.5\n"
     ]
    }
   ],
   "source": [
    "# 6. Metrics (sMAPE, MAE)\n",
    "import numpy as np\n",
    "\n",
    "def smape(y_true, y_pred):\n",
    "    y_true, y_pred = np.array(y_true), np.array(y_pred)\n",
    "    denom = np.abs(y_true) + np.abs(y_pred)\n",
    "    denom[denom == 0] = 1e-8\n",
    "    return 100 * np.mean(np.abs(y_true - y_pred) / denom)\n",
    "\n",
    "def mae(y_true, y_pred):\n",
    "    y_true, y_pred = np.array(y_true), np.array(y_pred)\n",
    "    return float(np.mean(np.abs(y_true - y_pred)))\n",
    "\n",
    "print('Metric sanity check:', smape([1,2,3],[1,2,3]), mae([1,2],[1,3]))"
   ]
  },
  {
   "cell_type": "code",
   "execution_count": 39,
   "id": "1d72a843",
   "metadata": {},
   "outputs": [
    {
     "data": {
      "text/plain": [
       "[{'model': 'MovingAverage(w=3)',\n",
       "  'smape': 5.12970722331894,\n",
       "  'mae': 28.12330910068469},\n",
       " {'model': 'ARIMA(1,1,1)',\n",
       "  'smape': 4.305091888454023,\n",
       "  'mae': 23.88185941554047}]"
      ]
     },
     "execution_count": 39,
     "metadata": {},
     "output_type": "execute_result"
    }
   ],
   "source": [
    "# 7. Rolling-Origin Evaluation (Moving Average & ARIMA only)\n",
    "\n",
    "def rolling_origin_eval(df, models, horizon=12, initial_train=60):\n",
    "    y = df['y'].reset_index(drop=True)\n",
    "    out = []\n",
    "    for name, model_obj in models.items():\n",
    "        preds_all, trues_all = [], []\n",
    "        for start in range(initial_train, len(y) - horizon + 1, horizon):\n",
    "            train_y = y[:start]\n",
    "            future_true = y[start:start + horizon]\n",
    "            model_obj.fit(train_y)\n",
    "            preds = model_obj.predict(horizon)\n",
    "            preds_all.extend(preds)\n",
    "            trues_all.extend(future_true.values)\n",
    "        if len(preds_all) == 0:\n",
    "            continue\n",
    "        s = smape(trues_all, preds_all)\n",
    "        m = mae(trues_all, preds_all)\n",
    "        out.append({'model': name, 'smape': s, 'mae': m})\n",
    "    return out\n",
    "\n",
    "models = {\n",
    "    'MovingAverage(w=3)': MovingAverageModel(window=3),\n",
    "    'ARIMA(1,1,1)': ARIMAModel(order=(1,1,1))\n",
    "}\n",
    "results = rolling_origin_eval(df, models, horizon=12, initial_train=60)\n",
    "results"
   ]
  },
  {
   "cell_type": "code",
   "execution_count": 40,
   "id": "5a163eca",
   "metadata": {},
   "outputs": [
    {
     "name": "stdout",
     "output_type": "stream",
     "text": [
      "Model performance (lower is better for both metrics):\n"
     ]
    },
    {
     "data": {
      "text/html": [
       "<div>\n",
       "<style scoped>\n",
       "    .dataframe tbody tr th:only-of-type {\n",
       "        vertical-align: middle;\n",
       "    }\n",
       "\n",
       "    .dataframe tbody tr th {\n",
       "        vertical-align: top;\n",
       "    }\n",
       "\n",
       "    .dataframe thead th {\n",
       "        text-align: right;\n",
       "    }\n",
       "</style>\n",
       "<table border=\"1\" class=\"dataframe\">\n",
       "  <thead>\n",
       "    <tr style=\"text-align: right;\">\n",
       "      <th></th>\n",
       "      <th>model</th>\n",
       "      <th>smape</th>\n",
       "      <th>mae</th>\n",
       "    </tr>\n",
       "  </thead>\n",
       "  <tbody>\n",
       "    <tr>\n",
       "      <th>1</th>\n",
       "      <td>ARIMA(1,1,1)</td>\n",
       "      <td>4.305092</td>\n",
       "      <td>23.881859</td>\n",
       "    </tr>\n",
       "    <tr>\n",
       "      <th>0</th>\n",
       "      <td>MovingAverage(w=3)</td>\n",
       "      <td>5.129707</td>\n",
       "      <td>28.123309</td>\n",
       "    </tr>\n",
       "  </tbody>\n",
       "</table>\n",
       "</div>"
      ],
      "text/plain": [
       "                model     smape        mae\n",
       "1        ARIMA(1,1,1)  4.305092  23.881859\n",
       "0  MovingAverage(w=3)  5.129707  28.123309"
      ]
     },
     "metadata": {},
     "output_type": "display_data"
    },
    {
     "data": {
      "image/png": "[encoded data removed]",
      "text/plain": [
       "<Figure size 800x400 with 1 Axes>"
      ]
     },
     "metadata": {},
     "output_type": "display_data"
    }
   ],
   "source": [
    "# 8. Results Table & Visualization\n",
    "import pandas as pd\n",
    "import matplotlib.pyplot as plt\n",
    "\n",
    "res_df = pd.DataFrame(results).sort_values('smape')\n",
    "print('Model performance (lower is better for both metrics):')\n",
    "display(res_df)\n",
    "\n",
    "plt.figure(figsize=(8,4))\n",
    "plt.plot(df['ds'], df['y'], label='Actual', color='black', linewidth=1.1)\n",
    "plt.title('Synthetic Monthly Time Series')\n",
    "plt.xlabel('Date'); plt.ylabel('Value'); plt.grid(alpha=0.3)\n",
    "plt.tight_layout(); plt.show()"
   ]
  },
  {
   "cell_type": "code",
   "execution_count": 41,
   "id": "05a55bc3",
   "metadata": {},
   "outputs": [
    {
     "name": "stdout",
     "output_type": "stream",
     "text": [
      "Tuned results:\n"
     ]
    },
    {
     "data": {
      "text/html": [
       "<div>\n",
       "<style scoped>\n",
       "    .dataframe tbody tr th:only-of-type {\n",
       "        vertical-align: middle;\n",
       "    }\n",
       "\n",
       "    .dataframe tbody tr th {\n",
       "        vertical-align: top;\n",
       "    }\n",
       "\n",
       "    .dataframe thead th {\n",
       "        text-align: right;\n",
       "    }\n",
       "</style>\n",
       "<table border=\"1\" class=\"dataframe\">\n",
       "  <thead>\n",
       "    <tr style=\"text-align: right;\">\n",
       "      <th></th>\n",
       "      <th>model</th>\n",
       "      <th>smape</th>\n",
       "      <th>mae</th>\n",
       "    </tr>\n",
       "  </thead>\n",
       "  <tbody>\n",
       "    <tr>\n",
       "      <th>1</th>\n",
       "      <td>ARIMA(2, 1, 2)</td>\n",
       "      <td>4.305933</td>\n",
       "      <td>23.701215</td>\n",
       "    </tr>\n",
       "    <tr>\n",
       "      <th>0</th>\n",
       "      <td>MovingAverage(w=5)</td>\n",
       "      <td>5.298591</td>\n",
       "      <td>28.962151</td>\n",
       "    </tr>\n",
       "  </tbody>\n",
       "</table>\n",
       "</div>"
      ],
      "text/plain": [
       "                model     smape        mae\n",
       "1      ARIMA(2, 1, 2)  4.305933  23.701215\n",
       "0  MovingAverage(w=5)  5.298591  28.962151"
      ]
     },
     "metadata": {},
     "output_type": "display_data"
    }
   ],
   "source": [
    "# 9. Hyperparameter Tweaks (no Prophet)\n",
    "NEW_WINDOW = 5\n",
    "TUNED_ARIMA = (2,1,2)\n",
    "\n",
    "models_tuned = {\n",
    "    f'MovingAverage(w={NEW_WINDOW})': MovingAverageModel(window=NEW_WINDOW),\n",
    "    f'ARIMA{TUNED_ARIMA}': ARIMAModel(order=TUNED_ARIMA)\n",
    "}\n",
    "results_tuned = rolling_origin_eval(df, models_tuned, horizon=12, initial_train=60)\n",
    "print('Tuned results:')\n",
    "display(pd.DataFrame(results_tuned).sort_values('smape'))"
   ]
  },
  {
   "cell_type": "markdown",
   "id": "f8e5ab2c",
   "metadata": {},
   "source": [
    "## 10. Summary & Next Steps\n",
    "**Summary**\n",
    "- Generated a synthetic monthly series with additive trend + seasonality.\n",
    "- Evaluated Moving Average and ARIMA via rolling-origin evaluation.\n",
    "- Reported sMAPE & MAE for baseline and tuned configurations.\n",
    "- Simple tuning showed how window size and ARIMA order affect error.\n",
    "\n",
    "**Potential Enhancements**\n",
    "- Add residual diagnostics (ACF/PACF) & stationarity test (ADF).\n",
    "- Add lag-based ML model (e.g., gradient boosting) for comparison.\n",
    "- Add confidence interval plotting for ARIMA forecast.\n",
    "- Persist forecast outputs to CSV for downstream analysis.\n"
   ]
  }
 ],
 "metadata": {
  "kernelspec": {
   "display_name": "Python 3",
   "language": "python",
   "name": "python3"
  },
  "language_info": {
   "codemirror_mode": {
    "name": "ipython",
    "version": 3
   },
   "file_extension": ".py",
   "mimetype": "text/x-python",
   "name": "python",
   "nbconvert_exporter": "python",
   "pygments_lexer": "ipython3",
   "version": "3.10.0"
  }
 },
 "nbformat": 4,
 "nbformat_minor": 5
}
